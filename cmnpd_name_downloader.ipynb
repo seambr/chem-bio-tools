{
  "nbformat": 4,
  "nbformat_minor": 0,
  "metadata": {
    "colab": {
      "provenance": []
    },
    "kernelspec": {
      "name": "python3",
      "display_name": "Python 3"
    },
    "language_info": {
      "name": "python"
    }
  },
  "cells": [
    {
      "cell_type": "markdown",
      "source": [
        "# made by https://github.com/seambr"
      ],
      "metadata": {
        "id": "r_1wwkl1xoh7"
      }
    },
    {
      "cell_type": "code",
      "execution_count": null,
      "metadata": {
        "id": "KIJobXdRuKTj"
      },
      "outputs": [],
      "source": [
        "import requests\n",
        "import asyncio\n",
        "import aiohttp\n",
        "import pandas as pd\n",
        "import time\n",
        "import json"
      ]
    },
    {
      "cell_type": "code",
      "source": [
        "#@title Enter cid-list\n",
        "cid_list = \"28f367d8-5322-4851-8edd-9a9e8a7c3300\" #@param type: \"string\"\n",
        "print(cid_list)"
      ],
      "metadata": {
        "colab": {
          "base_uri": "https://localhost:8080/"
        },
        "id": "0Ul1xhIpu3RG",
        "outputId": "21c80b71-9813-4140-dcfe-1e11e4bfe46e"
      },
      "execution_count": null,
      "outputs": [
        {
          "output_type": "stream",
          "name": "stdout",
          "text": [
            "28f367d8-5322-4851-8edd-9a9e8a7c3300\n"
          ]
        }
      ]
    },
    {
      "cell_type": "code",
      "source": [
        "URL = \"https://www.cmnpd.org:18127/browsePage/CompoundFilter/\"\n",
        "r = requests.post(URL, data=json.dumps({\"pageNO\": 1, \"pageSize\": 20, \"type\": \"compound\",\n",
        "                                        \"cid_list\": cid_list}))\n",
        "\n",
        "cmnpd_name_list = set(r.json()[\"data\"][0][\"all_data\"])\n",
        "print(F\"{len(cmnpd_name_list)} Compounds Found\")\n"
      ],
      "metadata": {
        "colab": {
          "base_uri": "https://localhost:8080/"
        },
        "id": "Ey-4GBDVuZsK",
        "outputId": "7f2f908a-49b7-40d8-8a33-4e7170fa93b2"
      },
      "execution_count": null,
      "outputs": [
        {
          "output_type": "stream",
          "name": "stdout",
          "text": [
            "10 Compounds Found\n"
          ]
        }
      ]
    },
    {
      "cell_type": "code",
      "source": [
        "\n",
        "results = []\n",
        "failed = []\n",
        "\n",
        "\n",
        "def cmnpd_name_to_link(cmnpd_name):\n",
        "    return f\"https://www.cmnpd.org:18127/detailPage/Compound/?cid={cmnpd_name}\"\n",
        "\n",
        "\n",
        "async def get_url(url, cmnpd_name):\n",
        "    async with aiohttp.ClientSession() as session:\n",
        "        async with session.get(url) as response:\n",
        "            if response.status == 200:\n",
        "                cmnpd_name_list.remove(cmnpd_name)\n",
        "                return await response.json()\n",
        "            elif response.status == 404:\n",
        "                failed.append(cmnpd_name)\n",
        "                cmnpd_name_list.remove(cmnpd_name)\n",
        "                return \"None\"\n",
        "\n",
        "loop = True\n",
        "items_to_get_at_once = 100\n",
        "while loop:\n",
        "    tasks = [asyncio.create_task(get_url(cmnpd_name_to_link(\n",
        "        cmnpd_name), cmnpd_name)) for cmnpd_name in list(cmnpd_name_list)[:items_to_get_at_once]]\n",
        "    res = await asyncio.gather(*tasks)\n",
        "    for r in res:\n",
        "        results.append(r)\n",
        "\n",
        "    if (len(cmnpd_name_list) == 0):\n",
        "        loop = False\n",
        "    print(f\"One iteration. {len(cmnpd_name_list)}\")\n",
        "    time.sleep(2)\n",
        "\n",
        "print(F\"{len(results)} Fetched, {len(failed)} Failed\")"
      ],
      "metadata": {
        "colab": {
          "base_uri": "https://localhost:8080/"
        },
        "id": "zMlQ5VWVu9pi",
        "outputId": "9b11eee7-af95-48c4-eafb-88790e8434b9"
      },
      "execution_count": null,
      "outputs": [
        {
          "output_type": "stream",
          "name": "stdout",
          "text": [
            "One iteration. 0\n",
            "10 Fetched, len(failed) Failed\n"
          ]
        }
      ]
    },
    {
      "cell_type": "code",
      "source": [
        "name_list = []\n",
        "iupac_name_list = []\n",
        "id_list = []\n",
        "for json_data in results:\n",
        "    name = None\n",
        "    iupac_name = None\n",
        "    cmnpd_name = None\n",
        "    try:\n",
        "      name_data = json_data[\"data\"][\"Name_and_Classification\"]\n",
        "    except:\n",
        "      print(\"Failed On This One\")\n",
        "      continue\n",
        "\n",
        "    try:\n",
        "        name = [i for i in name_data if i[\"key\"] == \"Name\"][0][\"value\"]\n",
        "    except:\n",
        "        name = None\n",
        "    try:\n",
        "        iupac_name = [i for i in name_data if i[\"key\"]\n",
        "                      == \"IUPAC Name\"][0][\"value\"]\n",
        "    except:\n",
        "        iupac_name = None\n",
        "    try:\n",
        "        cmnpd_name = [i for i in name_data if i[\"key\"]\n",
        "                      == \"ID\"][0][\"value\"]\n",
        "    except:\n",
        "        cmnpd_name = None\n",
        "\n",
        "    name_list.append(name)\n",
        "    iupac_name_list.append(iupac_name)\n",
        "    id_list.append(cmnpd_name)\n"
      ],
      "metadata": {
        "id": "6WXMAiF4vH-o"
      },
      "execution_count": null,
      "outputs": []
    },
    {
      "cell_type": "code",
      "source": [
        "from google.colab import files\n",
        "from pathlib import Path\n",
        "name_dict = {\n",
        "    \"Name\": name_list,\n",
        "    \"IUPAC_NAME\": iupac_name_list\n",
        "}\n",
        "\n",
        "save_path = Path.cwd() / \"name_data.csv\"\n",
        "df = pd.DataFrame(name_dict)\n",
        "df.reset_index(drop=True)\n",
        "df.to_csv(save_path,index=False,encoding=\"utf-8\")\n",
        "\n",
        "\n",
        "files.download(save_path)"
      ],
      "metadata": {
        "colab": {
          "base_uri": "https://localhost:8080/",
          "height": 17
        },
        "id": "7aG8Kk_mvKSI",
        "outputId": "ba1c3512-091e-40d4-9912-1577463bb13f"
      },
      "execution_count": null,
      "outputs": [
        {
          "output_type": "display_data",
          "data": {
            "text/plain": [
              "<IPython.core.display.Javascript object>"
            ],
            "application/javascript": [
              "\n",
              "    async function download(id, filename, size) {\n",
              "      if (!google.colab.kernel.accessAllowed) {\n",
              "        return;\n",
              "      }\n",
              "      const div = document.createElement('div');\n",
              "      const label = document.createElement('label');\n",
              "      label.textContent = `Downloading \"${filename}\": `;\n",
              "      div.appendChild(label);\n",
              "      const progress = document.createElement('progress');\n",
              "      progress.max = size;\n",
              "      div.appendChild(progress);\n",
              "      document.body.appendChild(div);\n",
              "\n",
              "      const buffers = [];\n",
              "      let downloaded = 0;\n",
              "\n",
              "      const channel = await google.colab.kernel.comms.open(id);\n",
              "      // Send a message to notify the kernel that we're ready.\n",
              "      channel.send({})\n",
              "\n",
              "      for await (const message of channel.messages) {\n",
              "        // Send a message to notify the kernel that we're ready.\n",
              "        channel.send({})\n",
              "        if (message.buffers) {\n",
              "          for (const buffer of message.buffers) {\n",
              "            buffers.push(buffer);\n",
              "            downloaded += buffer.byteLength;\n",
              "            progress.value = downloaded;\n",
              "          }\n",
              "        }\n",
              "      }\n",
              "      const blob = new Blob(buffers, {type: 'application/binary'});\n",
              "      const a = document.createElement('a');\n",
              "      a.href = window.URL.createObjectURL(blob);\n",
              "      a.download = filename;\n",
              "      div.appendChild(a);\n",
              "      a.click();\n",
              "      div.remove();\n",
              "    }\n",
              "  "
            ]
          },
          "metadata": {}
        },
        {
          "output_type": "display_data",
          "data": {
            "text/plain": [
              "<IPython.core.display.Javascript object>"
            ],
            "application/javascript": [
              "download(\"download_79729ae7-3766-4a65-aef7-ba2805ce1ae9\", \"name_data.csv\", 20976)"
            ]
          },
          "metadata": {}
        }
      ]
    }
  ]
}