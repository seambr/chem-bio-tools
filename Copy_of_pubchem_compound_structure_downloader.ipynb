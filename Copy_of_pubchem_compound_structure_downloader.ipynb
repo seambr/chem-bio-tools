{
  "nbformat": 4,
  "nbformat_minor": 0,
  "metadata": {
    "colab": {
      "provenance": []
    },
    "kernelspec": {
      "name": "python3",
      "display_name": "Python 3"
    },
    "language_info": {
      "name": "python"
    }
  },
  "cells": [
    {
      "cell_type": "markdown",
      "source": [
        "# Enviornment Setup"
      ],
      "metadata": {
        "id": "bdswvs6swVNj"
      }
    },
    {
      "cell_type": "code",
      "source": [
        "!pip install -q pubchempy"
      ],
      "metadata": {
        "id": "0EE3tNlPuBHV",
        "colab": {
          "base_uri": "https://localhost:8080/"
        },
        "outputId": "ed5afce6-2871-4d94-ef1d-2fc18fb5aef3"
      },
      "execution_count": null,
      "outputs": [
        {
          "output_type": "stream",
          "name": "stdout",
          "text": [
            "  Preparing metadata (setup.py) ... \u001b[?25l\u001b[?25hdone\n",
            "  Building wheel for pubchempy (setup.py) ... \u001b[?25l\u001b[?25hdone\n"
          ]
        }
      ]
    },
    {
      "cell_type": "code",
      "source": [
        "import sys\n",
        "sys.path.append(\"/usr/local/lib/python3.12/site-packages\")"
      ],
      "metadata": {
        "id": "bnNJxVOcueGh"
      },
      "execution_count": null,
      "outputs": []
    },
    {
      "cell_type": "code",
      "source": [
        "!which python\n",
        "!python --version"
      ],
      "metadata": {
        "colab": {
          "base_uri": "https://localhost:8080/"
        },
        "id": "4zDUgswuuu0e",
        "outputId": "46005572-412a-4b7d-940d-a17a8d44ee6f"
      },
      "execution_count": null,
      "outputs": [
        {
          "output_type": "stream",
          "name": "stdout",
          "text": [
            "/usr/local/bin/python\n",
            "Python 3.10.12\n"
          ]
        }
      ]
    },
    {
      "cell_type": "code",
      "source": [
        "for path in sys.path:\n",
        "    print(path)"
      ],
      "metadata": {
        "colab": {
          "base_uri": "https://localhost:8080/"
        },
        "id": "S7-B8CbVvPxM",
        "outputId": "e4973252-c053-4a3a-bf9d-3a7241766d4e"
      },
      "execution_count": null,
      "outputs": [
        {
          "output_type": "stream",
          "name": "stdout",
          "text": [
            "/content\n",
            "/env/python\n",
            "/usr/lib/python310.zip\n",
            "/usr/lib/python3.10\n",
            "/usr/lib/python3.10/lib-dynload\n",
            "\n",
            "/usr/local/lib/python3.10/dist-packages\n",
            "/usr/lib/python3/dist-packages\n",
            "/usr/local/lib/python3.10/dist-packages/IPython/extensions\n",
            "/root/.ipython\n",
            "/usr/local/lib/python3.12/site-packages\n"
          ]
        }
      ]
    },
    {
      "cell_type": "code",
      "source": [
        "import requests\n",
        "from pathlib import Path\n",
        "import subprocess\n",
        "import pubchempy as pcp\n",
        "from typing import NamedTuple\n",
        "import time\n",
        "from pprint import pprint\n",
        "\n"
      ],
      "metadata": {
        "id": "-nL0uYiPny4q"
      },
      "execution_count": null,
      "outputs": []
    },
    {
      "cell_type": "code",
      "source": [
        "# @title Make Directories\n",
        "!pwd\n",
        "!mkdir SDF\n",
        "!mkdir mol2"
      ],
      "metadata": {
        "colab": {
          "base_uri": "https://localhost:8080/"
        },
        "id": "Ex_5lWXcvd7_",
        "outputId": "16d18bd3-106b-41b6-d8af-80dda0868b65",
        "cellView": "form"
      },
      "execution_count": null,
      "outputs": [
        {
          "output_type": "stream",
          "name": "stdout",
          "text": [
            "/content\n"
          ]
        }
      ]
    },
    {
      "cell_type": "code",
      "source": [
        "# @title Installing OBABEL\n",
        "!apt install -y openbabel"
      ],
      "metadata": {
        "colab": {
          "base_uri": "https://localhost:8080/"
        },
        "id": "1-S1mS5hv7DH",
        "outputId": "f42cfae0-15e2-4d40-df0a-d894111adf62",
        "cellView": "form"
      },
      "execution_count": null,
      "outputs": [
        {
          "output_type": "stream",
          "name": "stdout",
          "text": [
            "Reading package lists... Done\n",
            "Building dependency tree... Done\n",
            "Reading state information... Done\n",
            "The following additional packages will be installed:\n",
            "  libinchi1 libmaeparser1 libopenbabel7\n",
            "The following NEW packages will be installed:\n",
            "  libinchi1 libmaeparser1 libopenbabel7 openbabel\n",
            "0 upgraded, 4 newly installed, 0 to remove and 38 not upgraded.\n",
            "Need to get 3,903 kB of archives.\n",
            "After this operation, 16.9 MB of additional disk space will be used.\n",
            "Get:1 http://archive.ubuntu.com/ubuntu jammy/universe amd64 libinchi1 amd64 1.03+dfsg-4 [455 kB]\n",
            "Get:2 http://archive.ubuntu.com/ubuntu jammy/universe amd64 libmaeparser1 amd64 1.2.4-1build1 [88.2 kB]\n",
            "Get:3 http://archive.ubuntu.com/ubuntu jammy/universe amd64 libopenbabel7 amd64 3.1.1+dfsg-6ubuntu5 [3,231 kB]\n",
            "Get:4 http://archive.ubuntu.com/ubuntu jammy/universe amd64 openbabel amd64 3.1.1+dfsg-6ubuntu5 [128 kB]\n",
            "Fetched 3,903 kB in 2s (2,155 kB/s)\n",
            "Selecting previously unselected package libinchi1.\n",
            "(Reading database ... 121752 files and directories currently installed.)\n",
            "Preparing to unpack .../libinchi1_1.03+dfsg-4_amd64.deb ...\n",
            "Unpacking libinchi1 (1.03+dfsg-4) ...\n",
            "Selecting previously unselected package libmaeparser1:amd64.\n",
            "Preparing to unpack .../libmaeparser1_1.2.4-1build1_amd64.deb ...\n",
            "Unpacking libmaeparser1:amd64 (1.2.4-1build1) ...\n",
            "Selecting previously unselected package libopenbabel7.\n",
            "Preparing to unpack .../libopenbabel7_3.1.1+dfsg-6ubuntu5_amd64.deb ...\n",
            "Unpacking libopenbabel7 (3.1.1+dfsg-6ubuntu5) ...\n",
            "Selecting previously unselected package openbabel.\n",
            "Preparing to unpack .../openbabel_3.1.1+dfsg-6ubuntu5_amd64.deb ...\n",
            "Unpacking openbabel (3.1.1+dfsg-6ubuntu5) ...\n",
            "Setting up libmaeparser1:amd64 (1.2.4-1build1) ...\n",
            "Setting up libinchi1 (1.03+dfsg-4) ...\n",
            "Setting up libopenbabel7 (3.1.1+dfsg-6ubuntu5) ...\n",
            "Setting up openbabel (3.1.1+dfsg-6ubuntu5) ...\n",
            "Processing triggers for libc-bin (2.35-0ubuntu3.4) ...\n",
            "/sbin/ldconfig.real: /usr/local/lib/libtbbmalloc.so.2 is not a symbolic link\n",
            "\n",
            "/sbin/ldconfig.real: /usr/local/lib/libtbb.so.12 is not a symbolic link\n",
            "\n",
            "/sbin/ldconfig.real: /usr/local/lib/libtbbbind_2_0.so.3 is not a symbolic link\n",
            "\n",
            "/sbin/ldconfig.real: /usr/local/lib/libtbbbind.so.3 is not a symbolic link\n",
            "\n",
            "/sbin/ldconfig.real: /usr/local/lib/libtbbbind_2_5.so.3 is not a symbolic link\n",
            "\n",
            "/sbin/ldconfig.real: /usr/local/lib/libtbbmalloc_proxy.so.2 is not a symbolic link\n",
            "\n",
            "Processing triggers for man-db (2.10.2-1) ...\n"
          ]
        }
      ]
    },
    {
      "cell_type": "code",
      "source": [
        "# @title Defining Function\n",
        "def convert_all_to_mol2():\n",
        "\n",
        "    mol2_path = Path.cwd()/\"mol2\"\n",
        "    sdf_paths = Path.cwd()/\"SDF\"\n",
        "    all_sdf_files = sdf_paths.glob(\"*.sdf\")\n",
        "\n",
        "    for sdf_file in all_sdf_files:\n",
        "\n",
        "        r = subprocess.run(f'obabel -isdf \"{sdf_file}\" -omol2 -O \"{mol2_path/sdf_file.stem}.mol2\"',shell=True,capture_output=True,text=True)\n",
        "\n",
        "def convert_all_to_pdbqt():\n",
        "    Path(Path.cwd()/'pdbqt_files').mkdir(parents=True, exist_ok=True)\n",
        "\n",
        "    mol2_path = Path.cwd()/\"mol2\"\n",
        "    pbdqt_paths = Path.cwd()/'pdbqt_files'\n",
        "\n",
        "    all_mol2_files = mol2_path.glob(\"*.mol2\")\n",
        "\n",
        "    for mol2_file in all_mol2_files:\n",
        "\n",
        "        r = subprocess.run(f'obabel -imol2 \"{mol2_file}\" -opdbqt -O \"{pbdqt_paths/mol2_file.stem}.pdbqt\"',shell=True,capture_output=True,text=True)\n",
        "\n",
        "\n",
        "def compound_name_to_sdf_url(compound_name):\n",
        "    class CompoundLinks(NamedTuple):\n",
        "        conformer_3d_link:str\n",
        "        regular_2d_link:str\n",
        "        json_link:str\n",
        "\n",
        "    try:\n",
        "      compound = pcp.get_compounds(compound_name, 'name')[0]\n",
        "    except IndexError as e:\n",
        "      print(f\"!!!!COULD NOT FIND {compound_name} IN PUBCHEM SEARCH, FIND MANUALLY!!!!!!\")\n",
        "      return False\n",
        "\n",
        "\n",
        "\n",
        "    urls = CompoundLinks(\n",
        "        conformer_3d_link=f'https://pubchem.ncbi.nlm.nih.gov/rest/pug/compound/cid/{compound.cid}/SDF?record_type=3d',\n",
        "        regular_2d_link=f'https://pubchem.ncbi.nlm.nih.gov/rest/pug/compound/cid/{compound.cid}/SDF',\n",
        "        json_link=f'https://pubchem.ncbi.nlm.nih.gov/rest/pug_view/data/compound/{compound.cid}/JSON/'\n",
        "    )\n",
        "\n",
        "    return urls\n",
        "\n",
        "\n",
        "def get_parent_url(json_link):\n",
        "    class ParentResponse(NamedTuple):\n",
        "        parent_cid:int\n",
        "        url:str\n",
        "        json_data:dict\n",
        "\n",
        "    r = requests.get(json_link)\n",
        "    dic = r.json()\n",
        "    parent_cid = dic[\"Record\"][\"Section\"][0][\"Section\"][1][\"Information\"][0][\"Value\"][\"Number\"][0]\n",
        "    url = f'https://pubchem.ncbi.nlm.nih.gov/rest/pug/compound/cid/{parent_cid}/SDF?record_type=3d'\n",
        "    return ParentResponse(url=url,parent_cid=parent_cid,json_data=dic)"
      ],
      "metadata": {
        "id": "qKs3mgOzvxQJ"
      },
      "execution_count": null,
      "outputs": []
    },
    {
      "cell_type": "markdown",
      "source": [
        "# DOWNLOAD AND CONVERT"
      ],
      "metadata": {
        "id": "15m5gcbswZQc"
      }
    },
    {
      "cell_type": "code",
      "source": [
        "# @title Compound Input\n",
        "compound_name_list = \"\"\"\n",
        "RP 67580\n",
        "IEM 1460\n",
        "SR 142948\n",
        "\"\"\".strip().split(\"\\n\")\n",
        "\n",
        "for i,compound in enumerate(compound_name_list):\n",
        "  print(F\"{i}.)     {compound}\")"
      ],
      "metadata": {
        "colab": {
          "base_uri": "https://localhost:8080/"
        },
        "id": "Mp5-qdIMwgS8",
        "outputId": "d9e0cee5-a66c-45be-817b-313f5091176f"
      },
      "execution_count": null,
      "outputs": [
        {
          "output_type": "stream",
          "name": "stdout",
          "text": [
            "0.)     RP 67580\n",
            "1.)     IEM 1460\n",
            "2.)     SR 142948\n"
          ]
        }
      ]
    },
    {
      "cell_type": "code",
      "source": [
        "# @title Clear SDFs and Mol2s and pdbqt_files\n",
        "\n",
        "!rm -f SDF/*\n",
        "!rm -f mol2/*\n",
        "!rm -f SDF.zip\n",
        "!rm -f mol2.zip\n",
        "!rm -f pdbqt_files/*\n",
        "!rm -f pdbqt.zip"
      ],
      "metadata": {
        "cellView": "form",
        "id": "dsrqMNP8B4X3"
      },
      "execution_count": null,
      "outputs": []
    },
    {
      "cell_type": "code",
      "source": [
        "# @title Run to get SDFS and MOL2s\n",
        "\n",
        "class Request404Error(Exception):\n",
        "    def __init__(self, message=\"Resource not found (404)\"):\n",
        "        # Initialize the exception with a custom message\n",
        "        self.message = message\n",
        "        super().__init__(self.message)\n",
        "\n",
        "class Request500Error(Exception):\n",
        "    def __init__(self, message=\"500 ERROR\"):\n",
        "        # Initialize the exception with a custom message\n",
        "        self.message = message\n",
        "        super().__init__(self.message)\n",
        "\n",
        "def save_sdf(compound_name,res):\n",
        "  replace_chars_map ={\"/\" : \"or\",\",\" : \".\",\":\" : \"sc\",\"*\" : \"ast\",\"?\" : \"que\",\"<\" : \"lt\",\">\" : \"gt\",\"|\" : \"bar\",\"~\" : \"tilde\"}\n",
        "\n",
        "  chars_to_replace = list(replace_chars_map.keys())\n",
        "\n",
        "  file_name = F\"{compound_name.replace(' ','_')}.sdf\"\n",
        "  for char in chars_to_replace:\n",
        "    file_name = file_name.replace(char,replace_chars_map[char])\n",
        "\n",
        "  sdf_path = Path.cwd()/\"SDF\"/ file_name\n",
        "\n",
        "  with open(sdf_path,'wb') as f:\n",
        "      f.write(res.content)\n",
        "      print(F\"\\t\\tSaved as {sdf_path}\")\n",
        "      print(\"=================\")\n",
        "\n",
        "i=0\n",
        "consecutive_fail_counter = 0\n",
        "while i<len(compound_name_list):\n",
        "    sdf_urls = None\n",
        "    json_tuple_response = None\n",
        "    json_data = None\n",
        "    compound_synoynms=None\n",
        "\n",
        "    compound_name = compound_name_list[i]\n",
        "\n",
        "\n",
        "    sdf_urls = compound_name_to_sdf_url(compound_name)\n",
        "    if sdf_urls == False:\n",
        "      # skip compound\n",
        "      i+=1\n",
        "      continue\n",
        "\n",
        "    print(F\"Getting {compound_name}\")\n",
        "\n",
        "    try:\n",
        "      json_tuple_response = get_parent_url(sdf_urls.json_link)\n",
        "      json_data = json_tuple_response.json_data\n",
        "\n",
        "    except:\n",
        "      print(F\"Failed to fetch JSON data for {compound_name}\")\n",
        "      pass\n",
        "\n",
        "\n",
        "    try:\n",
        "        # Try normal 3d\n",
        "        print(\"Trying normal 3d.\")\n",
        "        res = requests.get(sdf_urls.conformer_3d_link)\n",
        "        if res.status_code==404:\n",
        "            raise Request404Error(\"\")\n",
        "        elif res.status_code==200:\n",
        "            print(F\"\\tFound 3D of {compound_name}\")\n",
        "            save_sdf(compound_name,res)\n",
        "            i+=1\n",
        "    except Request404Error as e:\n",
        "\n",
        "        try:\n",
        "            # try parent 3d\n",
        "            print(\"Trying conformer parent 3d;   \",end=\"\")\n",
        "\n",
        "            try:\n",
        "\n",
        "                parent_url = json_tuple_response.url\n",
        "                parent_cid = json_tuple_response.parent_cid\n",
        "\n",
        "                print(F\" Parent CID: {parent_cid}\")\n",
        "                res = requests.get(parent_url)\n",
        "                if res.status_code==404:\n",
        "                    raise Request404Error(\"\")\n",
        "                elif res.status_code==200:\n",
        "                    print(F\"\\tFound 3D Conformer Parent of {compound_name}; Parent CID: {parent_cid}\")\n",
        "                    save_sdf(compound_name,res)\n",
        "                    i+=1\n",
        "\n",
        "            except:\n",
        "\n",
        "\n",
        "                # Failed For Some Reason so just throw an error to try 2D\n",
        "                raise Request404Error(\"Bad JSON\")\n",
        "\n",
        "        except Request404Error as e:\n",
        "\n",
        "            # lastly try 2d\n",
        "            print(\"\\nTrying 2d.\")\n",
        "            res = requests.get(sdf_urls.regular_2d_link)\n",
        "            if res.status_code==404:\n",
        "                print(\"skipping\")\n",
        "                i+=1\n",
        "                continue\n",
        "            elif res.status_code==200:\n",
        "                print(F\"\\tFound 2D of {compound_name}\")\n",
        "                save_sdf(compound_name,res)\n",
        "                i+=1\n",
        "\n",
        "    if res.status_code != 200 and res.status_code != 404:\n",
        "        if(consecutive_fail_counter>5):\n",
        "            print(F\"Trying again {consecutive_fail_counter}\")\n",
        "            consecutive_fail_counter+=1\n",
        "        else:\n",
        "            print(F\"\\nFailed to find {compound_name} in {consecutive_fail_counter} tries... skipping.\\n\")\n",
        "\n",
        "            consecutive_fail_counter = 0\n",
        "        continue\n",
        "\n"
      ],
      "metadata": {
        "colab": {
          "base_uri": "https://localhost:8080/"
        },
        "id": "njeF_Nwswbk2",
        "outputId": "efe40829-44e4-4f0a-f0a3-c1156a8cc7d8"
      },
      "execution_count": null,
      "outputs": [
        {
          "output_type": "stream",
          "name": "stdout",
          "text": [
            "Getting RP 67580\n",
            "Trying normal 3d.\n",
            "\tFound 3D of RP 67580\n",
            "\t\tSaved as /content/SDF/RP_67580.sdf\n",
            "=================\n",
            "Getting IEM 1460\n",
            "Trying normal 3d.\n",
            "Trying conformer parent 3d;    Parent CID: 3248290\n",
            "\tFound 3D Conformer Parent of IEM 1460; Parent CID: 3248290\n",
            "\t\tSaved as /content/SDF/IEM_1460.sdf\n",
            "=================\n",
            "Getting SR 142948\n",
            "Trying normal 3d.\n",
            "\tFound 3D of SR 142948\n",
            "\t\tSaved as /content/SDF/SR_142948.sdf\n",
            "=================\n"
          ]
        }
      ]
    },
    {
      "cell_type": "code",
      "source": [
        "# @title Convert All SDF Files In ./SDF Folder to Mol2 Result is in ./mol2 Folder, and all mol2 to .pbqt in ./pbqt_files\n",
        "convert_all_to_mol2()\n",
        "convert_all_to_pdbqt()\n",
        "print(\"ALL FILES CONVERTED\")"
      ],
      "metadata": {
        "cellView": "form",
        "id": "OGSlzfnO31Lu"
      },
      "execution_count": null,
      "outputs": []
    },
    {
      "cell_type": "code",
      "source": [
        "# @title Print file names with .pbqt extension\n",
        "files = list(  (Path.cwd()/\"SDF\").glob(\"*.sdf\"))\n",
        "files = [i.stem for i in files]\n",
        "for i in files:\n",
        "    print(i+\".pdbqt\")"
      ],
      "metadata": {
        "cellView": "form",
        "id": "_SLO_CE0zZ57"
      },
      "execution_count": null,
      "outputs": []
    },
    {
      "cell_type": "code",
      "source": [
        "# @title Download MOL2s and pdbqts\n",
        "from google.colab import files\n",
        "from pathlib import Path\n",
        "\n",
        "!zip -r mol2.zip mol2\n",
        "!zip -r pdbqt.zip pdbqt_files\n",
        "\n",
        "files.download(\"mol2.zip\")\n",
        "files.download(\"pdbqt.zip\")"
      ],
      "metadata": {
        "cellView": "form",
        "id": "oTsOLRoK0ODD"
      },
      "execution_count": null,
      "outputs": []
    },
    {
      "cell_type": "markdown",
      "source": [
        "# made by https://github.com/seambr"
      ],
      "metadata": {
        "id": "VLVt85K1dDUr"
      }
    },
    {
      "cell_type": "code",
      "source": [],
      "metadata": {
        "id": "MSLQxU6Q9v34"
      },
      "execution_count": null,
      "outputs": []
    }
  ]
}